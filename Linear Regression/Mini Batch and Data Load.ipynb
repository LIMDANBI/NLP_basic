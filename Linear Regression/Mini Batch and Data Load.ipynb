{
 "cells": [
  {
   "cell_type": "code",
   "execution_count": 1,
   "metadata": {},
   "outputs": [],
   "source": [
    "import torch\n",
    "import torch.nn as nn\n",
    "import torch.nn.functional as F\n",
    "from torch.utils.data import TensorDataset # 텐서데이터셋\n",
    "from torch.utils.data import DataLoader # 데이터로더"
   ]
  },
  {
   "cell_type": "code",
   "execution_count": 2,
   "metadata": {},
   "outputs": [],
   "source": [
    "# dataset 정의\n",
    "x_train  =  torch.FloatTensor([[73,  80,  75], \n",
    "                               [93,  88,  93], \n",
    "                               [89,  91,  90], \n",
    "                               [96,  98,  100],   \n",
    "                               [73,  66,  70]])  \n",
    "y_train  =  torch.FloatTensor([[152],  [185],  [180],  [196],  [142]])\n",
    "\n",
    "dataset = TensorDataset(x_train, y_train)"
   ]
  },
  {
   "cell_type": "code",
   "execution_count": 13,
   "metadata": {},
   "outputs": [
    {
     "name": "stdout",
     "output_type": "stream",
     "text": [
      "Epoch    0/30 Batch 1/3 Cost: 45687.398438\n",
      "Epoch    0/30 Batch 2/3 Cost: 11551.079102\n",
      "Epoch    0/30 Batch 3/3 Cost: 5494.213867\n",
      "Epoch    1/30 Batch 1/3 Cost: 1114.751221\n",
      "Epoch    1/30 Batch 2/3 Cost: 410.065430\n",
      "Epoch    1/30 Batch 3/3 Cost: 115.488373\n",
      "Epoch    2/30 Batch 1/3 Cost: 37.265060\n",
      "Epoch    2/30 Batch 2/3 Cost: 13.366940\n",
      "Epoch    2/30 Batch 3/3 Cost: 7.351995\n",
      "Epoch    3/30 Batch 1/3 Cost: 4.734693\n",
      "Epoch    3/30 Batch 2/3 Cost: 0.494200\n",
      "Epoch    3/30 Batch 3/3 Cost: 6.699784\n",
      "Epoch    4/30 Batch 1/3 Cost: 6.984961\n",
      "Epoch    4/30 Batch 2/3 Cost: 2.522320\n",
      "Epoch    4/30 Batch 3/3 Cost: 1.682874\n",
      "Epoch    5/30 Batch 1/3 Cost: 3.349717\n",
      "Epoch    5/30 Batch 2/3 Cost: 0.145276\n",
      "Epoch    5/30 Batch 3/3 Cost: 7.895486\n",
      "Epoch    6/30 Batch 1/3 Cost: 6.510013\n",
      "Epoch    6/30 Batch 2/3 Cost: 0.247621\n",
      "Epoch    6/30 Batch 3/3 Cost: 5.512565\n",
      "Epoch    7/30 Batch 1/3 Cost: 2.140061\n",
      "Epoch    7/30 Batch 2/3 Cost: 6.488780\n",
      "Epoch    7/30 Batch 3/3 Cost: 0.026811\n",
      "Epoch    8/30 Batch 1/3 Cost: 3.696715\n",
      "Epoch    8/30 Batch 2/3 Cost: 4.041106\n",
      "Epoch    8/30 Batch 3/3 Cost: 0.000217\n",
      "Epoch    9/30 Batch 1/3 Cost: 5.569262\n",
      "Epoch    9/30 Batch 2/3 Cost: 0.451972\n",
      "Epoch    9/30 Batch 3/3 Cost: 0.456124\n",
      "Epoch   10/30 Batch 1/3 Cost: 2.676667\n",
      "Epoch   10/30 Batch 2/3 Cost: 4.225121\n",
      "Epoch   10/30 Batch 3/3 Cost: 0.783566\n",
      "Epoch   11/30 Batch 1/3 Cost: 3.138897\n",
      "Epoch   11/30 Batch 2/3 Cost: 4.966255\n",
      "Epoch   11/30 Batch 3/3 Cost: 0.252233\n",
      "Epoch   12/30 Batch 1/3 Cost: 0.255426\n",
      "Epoch   12/30 Batch 2/3 Cost: 3.597442\n",
      "Epoch   12/30 Batch 3/3 Cost: 7.180234\n",
      "Epoch   13/30 Batch 1/3 Cost: 2.264995\n",
      "Epoch   13/30 Batch 2/3 Cost: 0.033611\n",
      "Epoch   13/30 Batch 3/3 Cost: 9.890764\n",
      "Epoch   14/30 Batch 1/3 Cost: 6.041754\n",
      "Epoch   14/30 Batch 2/3 Cost: 3.037452\n",
      "Epoch   14/30 Batch 3/3 Cost: 0.031292\n",
      "Epoch   15/30 Batch 1/3 Cost: 0.440473\n",
      "Epoch   15/30 Batch 2/3 Cost: 5.599007\n",
      "Epoch   15/30 Batch 3/3 Cost: 0.776478\n",
      "Epoch   16/30 Batch 1/3 Cost: 2.859757\n",
      "Epoch   16/30 Batch 2/3 Cost: 4.763408\n",
      "Epoch   16/30 Batch 3/3 Cost: 0.013597\n",
      "Epoch   17/30 Batch 1/3 Cost: 5.558377\n",
      "Epoch   17/30 Batch 2/3 Cost: 0.358974\n",
      "Epoch   17/30 Batch 3/3 Cost: 0.566627\n",
      "Epoch   18/30 Batch 1/3 Cost: 2.645546\n",
      "Epoch   18/30 Batch 2/3 Cost: 4.268275\n",
      "Epoch   18/30 Batch 3/3 Cost: 0.562340\n",
      "Epoch   19/30 Batch 1/3 Cost: 2.711464\n",
      "Epoch   19/30 Batch 2/3 Cost: 4.135214\n",
      "Epoch   19/30 Batch 3/3 Cost: 0.813563\n",
      "Epoch   20/30 Batch 1/3 Cost: 3.113864\n",
      "Epoch   20/30 Batch 2/3 Cost: 4.975832\n",
      "Epoch   20/30 Batch 3/3 Cost: 0.148233\n",
      "Epoch   21/30 Batch 1/3 Cost: 3.783666\n",
      "Epoch   21/30 Batch 2/3 Cost: 0.355167\n",
      "Epoch   21/30 Batch 3/3 Cost: 6.140166\n",
      "Epoch   22/30 Batch 1/3 Cost: 0.696088\n",
      "Epoch   22/30 Batch 2/3 Cost: 6.210760\n",
      "Epoch   22/30 Batch 3/3 Cost: 0.346118\n",
      "Epoch   23/30 Batch 1/3 Cost: 0.280547\n",
      "Epoch   23/30 Batch 2/3 Cost: 5.911498\n",
      "Epoch   23/30 Batch 3/3 Cost: 0.306646\n",
      "Epoch   24/30 Batch 1/3 Cost: 5.892675\n",
      "Epoch   24/30 Batch 2/3 Cost: 0.402173\n",
      "Epoch   24/30 Batch 3/3 Cost: 0.305380\n",
      "Epoch   25/30 Batch 1/3 Cost: 5.644797\n",
      "Epoch   25/30 Batch 2/3 Cost: 0.262251\n",
      "Epoch   25/30 Batch 3/3 Cost: 0.495823\n",
      "Epoch   26/30 Batch 1/3 Cost: 0.142623\n",
      "Epoch   26/30 Batch 2/3 Cost: 4.203107\n",
      "Epoch   26/30 Batch 3/3 Cost: 7.769169\n",
      "Epoch   27/30 Batch 1/3 Cost: 4.356217\n",
      "Epoch   27/30 Batch 2/3 Cost: 0.388374\n",
      "Epoch   27/30 Batch 3/3 Cost: 6.028832\n",
      "Epoch   28/30 Batch 1/3 Cost: 6.040092\n",
      "Epoch   28/30 Batch 2/3 Cost: 3.795235\n",
      "Epoch   28/30 Batch 3/3 Cost: 0.115380\n",
      "Epoch   29/30 Batch 1/3 Cost: 0.024803\n",
      "Epoch   29/30 Batch 2/3 Cost: 2.281101\n",
      "Epoch   29/30 Batch 3/3 Cost: 9.941408\n",
      "Epoch   30/30 Batch 1/3 Cost: 5.066582\n",
      "Epoch   30/30 Batch 2/3 Cost: 2.651304\n",
      "Epoch   30/30 Batch 3/3 Cost: 1.263326\n"
     ]
    }
   ],
   "source": [
    "# DataLoader(dataset, minibatch_size) \n",
    "# shuffle=True : Epoch마다 데이터셋을 섞어서 데이터가 학습되는 순서를 바꿈 (모델이 dataset에 익숙해지는 것 방지)\n",
    "\n",
    "dataloader = DataLoader(dataset, batch_size=2, shuffle=True)\n",
    "model = nn.Linear(3,1)\n",
    "optimizer = torch.optim.SGD(model.parameters(), lr=1e-5) \n",
    "\n",
    "nb_epochs = 30\n",
    "for epoch in range(nb_epochs + 1):\n",
    "    for batch_idx, samples in enumerate(dataloader):\n",
    "        # print(batch_idx)\n",
    "        # print(samples)\n",
    "        \n",
    "        x_train, y_train = samples\n",
    "\n",
    "        prediction = model(x_train)\n",
    "\n",
    "        cost = F.mse_loss(prediction, y_train)\n",
    "\n",
    "        optimizer.zero_grad()\n",
    "        cost.backward()\n",
    "        optimizer.step()\n",
    "\n",
    "        print('Epoch {:4d}/{} Batch {}/{} Cost: {:.6f}'.format(\n",
    "            epoch, nb_epochs, batch_idx+1, len(dataloader),\n",
    "            cost.item()\n",
    "            ))"
   ]
  },
  {
   "cell_type": "code",
   "execution_count": 14,
   "metadata": {},
   "outputs": [
    {
     "name": "stdout",
     "output_type": "stream",
     "text": [
      "훈련 후 입력이 73, 80, 75일 때의 예측값 : tensor([[151.2915]], grad_fn=<AddmmBackward>)\n"
     ]
    }
   ],
   "source": [
    "new_var =  torch.FloatTensor([[73, 80, 75]]) \n",
    "pred_y = model(new_var) \n",
    "print(\"훈련 후 입력이 73, 80, 75일 때의 예측값 :\", pred_y) "
   ]
  }
 ],
 "metadata": {
  "kernelspec": {
   "display_name": "Python 3",
   "language": "python",
   "name": "python3"
  },
  "language_info": {
   "codemirror_mode": {
    "name": "ipython",
    "version": 3
   },
   "file_extension": ".py",
   "mimetype": "text/x-python",
   "name": "python",
   "nbconvert_exporter": "python",
   "pygments_lexer": "ipython3",
   "version": "3.8.5"
  }
 },
 "nbformat": 4,
 "nbformat_minor": 4
}
