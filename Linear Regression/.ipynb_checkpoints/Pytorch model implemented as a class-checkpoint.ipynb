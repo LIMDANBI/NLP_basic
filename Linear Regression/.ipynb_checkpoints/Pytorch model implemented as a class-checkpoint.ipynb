{
 "cells": [
  {
   "cell_type": "code",
   "execution_count": 1,
   "metadata": {},
   "outputs": [],
   "source": [
    "import torch\n",
    "import torch.nn as nn\n",
    "import torch.nn.functional as F"
   ]
  },
  {
   "cell_type": "code",
   "execution_count": 3,
   "metadata": {},
   "outputs": [],
   "source": [
    "class LinearRegressionModel(nn.Module): # torch.nn.Module을 상속받는 파이썬 클래스\n",
    "    \n",
    "    # 모델의 구조와 동작을 정의하는 생성자를 정의 \n",
    "    def __init__(self): #\n",
    "        super().__init__()\n",
    "        self.linear = nn.Linear(1, 1) # 단순 선형 회귀 (input_dim=1, output_dim=1)\n",
    "    \n",
    "    # 학습데이터를 입력받아서 forward 연산을 진행시키는 함수\n",
    "    def forward(self, x):\n",
    "        return self.linear(x)"
   ]
  },
  {
   "cell_type": "code",
   "execution_count": 5,
   "metadata": {},
   "outputs": [],
   "source": [
    "class MultivariateLinearRegressionModel(nn.Module):\n",
    "    def __init__(self):\n",
    "        super().__init__()\n",
    "        self.linear = nn.Linear(3, 1) # 다중 선형 회귀 (input_dim=3, output_dim=1)\n",
    "\n",
    "    def forward(self, x):\n",
    "        return self.linear(x)"
   ]
  },
  {
   "cell_type": "code",
   "execution_count": 7,
   "metadata": {},
   "outputs": [
    {
     "data": {
      "text/plain": [
       "<torch._C.Generator at 0x7fcfa866a8f0>"
      ]
     },
     "execution_count": 7,
     "metadata": {},
     "output_type": "execute_result"
    }
   ],
   "source": [
    "torch.manual_seed(1)"
   ]
  },
  {
   "cell_type": "code",
   "execution_count": 10,
   "metadata": {},
   "outputs": [
    {
     "name": "stdout",
     "output_type": "stream",
     "text": [
      "Epoch    0/2000 Cost: 33.679783\n",
      "Epoch  100/2000 Cost: 0.223159\n",
      "Epoch  200/2000 Cost: 0.137899\n",
      "Epoch  300/2000 Cost: 0.085213\n",
      "Epoch  400/2000 Cost: 0.052656\n",
      "Epoch  500/2000 Cost: 0.032539\n",
      "Epoch  600/2000 Cost: 0.020107\n",
      "Epoch  700/2000 Cost: 0.012425\n",
      "Epoch  800/2000 Cost: 0.007678\n",
      "Epoch  900/2000 Cost: 0.004744\n",
      "Epoch 1000/2000 Cost: 0.002932\n",
      "Epoch 1100/2000 Cost: 0.001812\n",
      "Epoch 1200/2000 Cost: 0.001119\n",
      "Epoch 1300/2000 Cost: 0.000692\n",
      "Epoch 1400/2000 Cost: 0.000427\n",
      "Epoch 1500/2000 Cost: 0.000264\n",
      "Epoch 1600/2000 Cost: 0.000163\n",
      "Epoch 1700/2000 Cost: 0.000101\n",
      "Epoch 1800/2000 Cost: 0.000062\n",
      "Epoch 1900/2000 Cost: 0.000039\n",
      "Epoch 2000/2000 Cost: 0.000024\n"
     ]
    }
   ],
   "source": [
    "# <단순 선형 회귀 클래스로 구현하기>\n",
    "\n",
    "x_train = torch.FloatTensor([[1], [2], [3]])\n",
    "y_train = torch.FloatTensor([[2], [4], [6]])\n",
    "\n",
    "model = LinearRegressionModel()\n",
    "optimizer = torch.optim.SGD(model.parameters(), lr=0.01) \n",
    "\n",
    "nb_epochs = 2000\n",
    "for epoch in range(nb_epochs+1):\n",
    "    \n",
    "    prediction = model(x_train)\n",
    "    \n",
    "    cost = F.mse_loss(prediction, y_train)\n",
    "    \n",
    "    optimizer.zero_grad()\n",
    "    cost.backward()\n",
    "    optimizer.step()\n",
    "    \n",
    "    if epoch % 100 == 0:\n",
    "    # 100번마다 로그 출력\n",
    "      print('Epoch {:4d}/{} Cost: {:.6f}'.format(\n",
    "          epoch, nb_epochs, cost.item()\n",
    "      ))"
   ]
  },
  {
   "cell_type": "code",
   "execution_count": 14,
   "metadata": {},
   "outputs": [
    {
     "name": "stdout",
     "output_type": "stream",
     "text": [
      "훈련 후 입력이 22일 때의 예측값 tensor([[43.8885]], grad_fn=<AddmmBackward>)\n",
      "[Parameter containing:\n",
      "tensor([[1.9943]], requires_grad=True), Parameter containing:\n",
      "tensor([0.0128], requires_grad=True)]\n"
     ]
    }
   ],
   "source": [
    "new_var =  torch.FloatTensor([[22]])\n",
    "pred_y = model(new_var)\n",
    "print(\"훈련 후 입력이 22일 때의 예측값\", pred_y)\n",
    "print(list(model.parameters()))"
   ]
  },
  {
   "cell_type": "code",
   "execution_count": 16,
   "metadata": {},
   "outputs": [
    {
     "name": "stdout",
     "output_type": "stream",
     "text": [
      "Epoch    0/2000 Cost: 19085.046875\n",
      "Epoch  100/2000 Cost: 0.954040\n",
      "Epoch  200/2000 Cost: 0.925113\n",
      "Epoch  300/2000 Cost: 0.897655\n",
      "Epoch  400/2000 Cost: 0.871580\n",
      "Epoch  500/2000 Cost: 0.846827\n",
      "Epoch  600/2000 Cost: 0.823325\n",
      "Epoch  700/2000 Cost: 0.800988\n",
      "Epoch  800/2000 Cost: 0.779782\n",
      "Epoch  900/2000 Cost: 0.759631\n",
      "Epoch 1000/2000 Cost: 0.740498\n",
      "Epoch 1100/2000 Cost: 0.722297\n",
      "Epoch 1200/2000 Cost: 0.705010\n",
      "Epoch 1300/2000 Cost: 0.688589\n",
      "Epoch 1400/2000 Cost: 0.672957\n",
      "Epoch 1500/2000 Cost: 0.658101\n",
      "Epoch 1600/2000 Cost: 0.643990\n",
      "Epoch 1700/2000 Cost: 0.630549\n",
      "Epoch 1800/2000 Cost: 0.617762\n",
      "Epoch 1900/2000 Cost: 0.605596\n",
      "Epoch 2000/2000 Cost: 0.594023\n"
     ]
    }
   ],
   "source": [
    "# <다중 선형 회귀 클래스로 구현하기>\n",
    "\n",
    "x_train = torch.FloatTensor([[73, 80, 75],\n",
    "                             [93, 88, 93],\n",
    "                             [89, 91, 90],\n",
    "                             [96, 98, 100],\n",
    "                             [73, 66, 70]])\n",
    "y_train = torch.FloatTensor([[152], [185], [180], [196], [142]])\n",
    "\n",
    "model = MultivariateLinearRegressionModel()\n",
    "optimizer = torch.optim.SGD(model.parameters(), lr=1e-5) \n",
    "\n",
    "nb_epochs = 2000\n",
    "for epoch in range(nb_epochs+1):\n",
    "    \n",
    "    prediction = model(x_train)\n",
    "    \n",
    "    cost = F.mse_loss(prediction, y_train)\n",
    "    \n",
    "    optimizer.zero_grad()\n",
    "    cost.backward()\n",
    "    optimizer.step()\n",
    "    \n",
    "    if epoch % 100 == 0:\n",
    "    # 100번마다 로그 출력\n",
    "      print('Epoch {:4d}/{} Cost: {:.6f}'.format(\n",
    "          epoch, nb_epochs, cost.item()\n",
    "      ))"
   ]
  },
  {
   "cell_type": "code",
   "execution_count": 17,
   "metadata": {},
   "outputs": [
    {
     "name": "stdout",
     "output_type": "stream",
     "text": [
      "훈련 후 입력이 73, 80, 75일 때의 예측값 : tensor([[151.7087]], grad_fn=<AddmmBackward>)\n",
      "[Parameter containing:\n",
      "tensor([[0.7596, 0.5041, 0.7486]], requires_grad=True), Parameter containing:\n",
      "tensor([-0.2157], requires_grad=True)]\n"
     ]
    }
   ],
   "source": [
    "new_var =  torch.FloatTensor([[73, 80, 75]]) \n",
    "pred_y = model(new_var) \n",
    "print(\"훈련 후 입력이 73, 80, 75일 때의 예측값 :\", pred_y) \n",
    "print(list(model.parameters()))"
   ]
  }
 ],
 "metadata": {
  "kernelspec": {
   "display_name": "Python 3",
   "language": "python",
   "name": "python3"
  },
  "language_info": {
   "codemirror_mode": {
    "name": "ipython",
    "version": 3
   },
   "file_extension": ".py",
   "mimetype": "text/x-python",
   "name": "python",
   "nbconvert_exporter": "python",
   "pygments_lexer": "ipython3",
   "version": "3.8.5"
  }
 },
 "nbformat": 4,
 "nbformat_minor": 4
}
