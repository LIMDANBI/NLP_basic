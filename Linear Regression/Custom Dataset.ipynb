{
 "cells": [
  {
   "cell_type": "code",
   "execution_count": 1,
   "metadata": {},
   "outputs": [],
   "source": [
    "import torch\n",
    "import torch.nn.functional as F\n",
    "from torch.utils.data import Dataset\n",
    "from torch.utils.data import DataLoader"
   ]
  },
  {
   "cell_type": "code",
   "execution_count": 2,
   "metadata": {},
   "outputs": [],
   "source": [
    "class CustomDataset(torch.utils.data.Dataset): \n",
    "    \n",
    "    #데이터셋의 전처리를 해주는 부분\n",
    "    def __init__(self):\n",
    "        self.x_data = [[73, 80, 75],\n",
    "                   [93, 88, 93],\n",
    "                   [89, 91, 90],\n",
    "                   [96, 98, 100],\n",
    "                   [73, 66, 70]]\n",
    "        self.y_data = [[152], [185], [180], [196], [142]]\n",
    "\n",
    "    \n",
    "    # 데이터셋의 길이. 즉, 총 샘플의 수를 적어주는 부분. len(dataset)을 했을 때 데이터셋의 크기를 리턴할 len\n",
    "    def __len__(self):\n",
    "        return len(self.x_data)\n",
    "\n",
    "    # 데이터셋에서 특정 1개의 샘플을 가져오는 함수. dataset[i]을 했을 때 i번째 샘플을 가져오도록 하는 인덱싱을 위한 get_item\n",
    "    def __getitem__(self, idx): \n",
    "        x = torch.FloatTensor(self.x_data[idx])\n",
    "        y = torch.FloatTensor(self.y_data[idx])\n",
    "        return x, y"
   ]
  },
  {
   "cell_type": "code",
   "execution_count": 30,
   "metadata": {},
   "outputs": [
    {
     "name": "stdout",
     "output_type": "stream",
     "text": [
      "5\n"
     ]
    },
    {
     "data": {
      "text/plain": [
       "(tensor([93., 88., 93.]), tensor([185.]))"
      ]
     },
     "execution_count": 30,
     "metadata": {},
     "output_type": "execute_result"
    }
   ],
   "source": [
    "dataset = CustomDataset()\n",
    "dataloader = DataLoader(dataset, batch_size=2, shuffle=True)\n",
    "# print(dataset.__len__())\n",
    "# dataset.__getitem__(1)"
   ]
  },
  {
   "cell_type": "code",
   "execution_count": 4,
   "metadata": {},
   "outputs": [],
   "source": [
    "model = torch.nn.Linear(3,1)\n",
    "optimizer = torch.optim.SGD(model.parameters(), lr=1e-5) "
   ]
  },
  {
   "cell_type": "code",
   "execution_count": 15,
   "metadata": {},
   "outputs": [
    {
     "name": "stdout",
     "output_type": "stream",
     "text": [
      "Epoch    0/20 Batch 1/3 Cost: 14.012283\n",
      "Epoch    0/20 Batch 2/3 Cost: 5.964940\n",
      "Epoch    0/20 Batch 3/3 Cost: 1.514316\n",
      "Epoch    1/20 Batch 1/3 Cost: 5.438385\n",
      "Epoch    1/20 Batch 2/3 Cost: 12.318731\n",
      "Epoch    1/20 Batch 3/3 Cost: 6.218454\n",
      "Epoch    2/20 Batch 1/3 Cost: 2.307038\n",
      "Epoch    2/20 Batch 2/3 Cost: 8.423180\n",
      "Epoch    2/20 Batch 3/3 Cost: 22.545109\n",
      "Epoch    3/20 Batch 1/3 Cost: 4.180723\n",
      "Epoch    3/20 Batch 2/3 Cost: 12.238462\n",
      "Epoch    3/20 Batch 3/3 Cost: 8.823898\n",
      "Epoch    4/20 Batch 1/3 Cost: 6.370142\n",
      "Epoch    4/20 Batch 2/3 Cost: 10.686321\n",
      "Epoch    4/20 Batch 3/3 Cost: 7.714655\n",
      "Epoch    5/20 Batch 1/3 Cost: 14.090318\n",
      "Epoch    5/20 Batch 2/3 Cost: 2.450927\n",
      "Epoch    5/20 Batch 3/3 Cost: 12.670867\n",
      "Epoch    6/20 Batch 1/3 Cost: 11.543725\n",
      "Epoch    6/20 Batch 2/3 Cost: 6.606431\n",
      "Epoch    6/20 Batch 3/3 Cost: 2.957617\n",
      "Epoch    7/20 Batch 1/3 Cost: 6.077193\n",
      "Epoch    7/20 Batch 2/3 Cost: 10.808994\n",
      "Epoch    7/20 Batch 3/3 Cost: 6.988220\n",
      "Epoch    8/20 Batch 1/3 Cost: 13.217284\n",
      "Epoch    8/20 Batch 2/3 Cost: 4.307516\n",
      "Epoch    8/20 Batch 3/3 Cost: 6.198456\n",
      "Epoch    9/20 Batch 1/3 Cost: 2.330152\n",
      "Epoch    9/20 Batch 2/3 Cost: 15.356722\n",
      "Epoch    9/20 Batch 3/3 Cost: 8.732487\n",
      "Epoch   10/20 Batch 1/3 Cost: 9.082097\n",
      "Epoch   10/20 Batch 2/3 Cost: 6.257970\n",
      "Epoch   10/20 Batch 3/3 Cost: 10.071635\n",
      "Epoch   11/20 Batch 1/3 Cost: 2.123374\n",
      "Epoch   11/20 Batch 2/3 Cost: 23.849840\n",
      "Epoch   11/20 Batch 3/3 Cost: 3.275594\n",
      "Epoch   12/20 Batch 1/3 Cost: 4.640340\n",
      "Epoch   12/20 Batch 2/3 Cost: 12.037668\n",
      "Epoch   12/20 Batch 3/3 Cost: 6.400199\n",
      "Epoch   13/20 Batch 1/3 Cost: 1.222557\n",
      "Epoch   13/20 Batch 2/3 Cost: 21.579895\n",
      "Epoch   13/20 Batch 3/3 Cost: 8.150913\n",
      "Epoch   14/20 Batch 1/3 Cost: 12.764182\n",
      "Epoch   14/20 Batch 2/3 Cost: 3.231019\n",
      "Epoch   14/20 Batch 3/3 Cost: 11.269618\n",
      "Epoch   15/20 Batch 1/3 Cost: 6.502346\n",
      "Epoch   15/20 Batch 2/3 Cost: 4.868863\n",
      "Epoch   15/20 Batch 3/3 Cost: 22.813683\n",
      "Epoch   16/20 Batch 1/3 Cost: 8.782279\n",
      "Epoch   16/20 Batch 2/3 Cost: 5.786363\n",
      "Epoch   16/20 Batch 3/3 Cost: 18.959608\n",
      "Epoch   17/20 Batch 1/3 Cost: 8.609480\n",
      "Epoch   17/20 Batch 2/3 Cost: 11.303713\n",
      "Epoch   17/20 Batch 3/3 Cost: 4.690566\n",
      "Epoch   18/20 Batch 1/3 Cost: 4.250992\n",
      "Epoch   18/20 Batch 2/3 Cost: 11.890284\n",
      "Epoch   18/20 Batch 3/3 Cost: 6.515362\n",
      "Epoch   19/20 Batch 1/3 Cost: 17.199085\n",
      "Epoch   19/20 Batch 2/3 Cost: 7.487509\n",
      "Epoch   19/20 Batch 3/3 Cost: 4.299409\n",
      "Epoch   20/20 Batch 1/3 Cost: 21.520741\n",
      "Epoch   20/20 Batch 2/3 Cost: 5.860289\n",
      "Epoch   20/20 Batch 3/3 Cost: 3.428453\n"
     ]
    }
   ],
   "source": [
    "nb_epochs = 20\n",
    "for epoch in range(nb_epochs + 1):\n",
    "    for batch_idx, samples in enumerate(dataloader):\n",
    "        # print(batch_idx)\n",
    "        # print(samples)\n",
    "        x_train, y_train = samples\n",
    "        # H(x) 계산\n",
    "        prediction = model(x_train)\n",
    "\n",
    "        # cost 계산\n",
    "        cost = F.mse_loss(prediction, y_train)\n",
    "\n",
    "        # cost로 H(x) 계산\n",
    "        optimizer.zero_grad()\n",
    "        cost.backward()\n",
    "        optimizer.step()\n",
    "\n",
    "        print('Epoch {:4d}/{} Batch {}/{} Cost: {:.6f}'.format(\n",
    "            epoch, nb_epochs, batch_idx+1, len(dataloader),\n",
    "            cost.item()\n",
    "            ))"
   ]
  },
  {
   "cell_type": "code",
   "execution_count": 16,
   "metadata": {},
   "outputs": [
    {
     "name": "stdout",
     "output_type": "stream",
     "text": [
      "훈련 후 입력이 73, 80, 75일 때의 예측값 : tensor([[153.1014]], grad_fn=<AddmmBackward>)\n"
     ]
    }
   ],
   "source": [
    "new_var =  torch.FloatTensor([[73, 80, 75]]) \n",
    "pred_y = model(new_var) \n",
    "print(\"훈련 후 입력이 73, 80, 75일 때의 예측값 :\", pred_y) "
   ]
  }
 ],
 "metadata": {
  "kernelspec": {
   "display_name": "Python 3",
   "language": "python",
   "name": "python3"
  },
  "language_info": {
   "codemirror_mode": {
    "name": "ipython",
    "version": 3
   },
   "file_extension": ".py",
   "mimetype": "text/x-python",
   "name": "python",
   "nbconvert_exporter": "python",
   "pygments_lexer": "ipython3",
   "version": "3.8.5"
  }
 },
 "nbformat": 4,
 "nbformat_minor": 4
}
