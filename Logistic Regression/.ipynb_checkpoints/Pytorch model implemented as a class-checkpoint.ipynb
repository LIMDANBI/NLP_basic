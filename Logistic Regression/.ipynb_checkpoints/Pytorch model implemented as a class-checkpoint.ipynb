{
 "cells": [
  {
   "cell_type": "code",
   "execution_count": 2,
   "metadata": {},
   "outputs": [],
   "source": [
    "import torch\n",
    "import torch.nn as nn\n",
    "import torch.nn.functional as F\n",
    "import torch.optim as optim "
   ]
  },
  {
   "cell_type": "code",
   "execution_count": 3,
   "metadata": {},
   "outputs": [
    {
     "data": {
      "text/plain": [
       "<torch._C.Generator at 0x7fa6674349b0>"
      ]
     },
     "execution_count": 3,
     "metadata": {},
     "output_type": "execute_result"
    }
   ],
   "source": [
    "torch.manual_seed(1)"
   ]
  },
  {
   "cell_type": "code",
   "execution_count": 4,
   "metadata": {},
   "outputs": [],
   "source": [
    "x_data = [[1, 2], [2, 3], [3, 1], [4, 3], [5, 3], [6, 2]]\n",
    "y_data = [[0], [0], [0], [1], [1], [1]]\n",
    "x_train = torch.FloatTensor(x_data)\n",
    "y_train = torch.FloatTensor(y_data)"
   ]
  },
  {
   "cell_type": "code",
   "execution_count": 15,
   "metadata": {},
   "outputs": [],
   "source": [
    "class BinaryClassifier(nn.Module):\n",
    "    def __init__(self):\n",
    "        super().__init__()\n",
    "        self.linear = nn.Linear(2, 1)\n",
    "        self.sigmoid = nn.Sigmoid()\n",
    "\n",
    "    def forward(self, x):\n",
    "        return self.sigmoid(self.linear(x))"
   ]
  },
  {
   "cell_type": "code",
   "execution_count": 16,
   "metadata": {},
   "outputs": [],
   "source": [
    "model = BinaryClassifier()"
   ]
  },
  {
   "cell_type": "code",
   "execution_count": 18,
   "metadata": {},
   "outputs": [
    {
     "name": "stdout",
     "output_type": "stream",
     "text": [
      "Epoch    0/1000 Cost: 0.778947 Accuracy 33.33%\n",
      "Epoch   10/1000 Cost: 0.606802 Accuracy 66.67%\n",
      "Epoch   20/1000 Cost: 0.446548 Accuracy 66.67%\n",
      "Epoch   30/1000 Cost: 0.376169 Accuracy 83.33%\n",
      "Epoch   40/1000 Cost: 0.318945 Accuracy 83.33%\n",
      "Epoch   50/1000 Cost: 0.268428 Accuracy 83.33%\n",
      "Epoch   60/1000 Cost: 0.222594 Accuracy 100.00%\n",
      "Epoch   70/1000 Cost: 0.183695 Accuracy 100.00%\n",
      "Epoch   80/1000 Cost: 0.158160 Accuracy 100.00%\n",
      "Epoch   90/1000 Cost: 0.144616 Accuracy 100.00%\n",
      "Epoch  100/1000 Cost: 0.134716 Accuracy 100.00%\n",
      "Epoch  110/1000 Cost: 0.126157 Accuracy 100.00%\n",
      "Epoch  120/1000 Cost: 0.118640 Accuracy 100.00%\n",
      "Epoch  130/1000 Cost: 0.111984 Accuracy 100.00%\n",
      "Epoch  140/1000 Cost: 0.106051 Accuracy 100.00%\n",
      "Epoch  150/1000 Cost: 0.100728 Accuracy 100.00%\n",
      "Epoch  160/1000 Cost: 0.095925 Accuracy 100.00%\n",
      "Epoch  170/1000 Cost: 0.091571 Accuracy 100.00%\n",
      "Epoch  180/1000 Cost: 0.087604 Accuracy 100.00%\n",
      "Epoch  190/1000 Cost: 0.083974 Accuracy 100.00%\n",
      "Epoch  200/1000 Cost: 0.080641 Accuracy 100.00%\n",
      "Epoch  210/1000 Cost: 0.077569 Accuracy 100.00%\n",
      "Epoch  220/1000 Cost: 0.074728 Accuracy 100.00%\n",
      "Epoch  230/1000 Cost: 0.072092 Accuracy 100.00%\n",
      "Epoch  240/1000 Cost: 0.069641 Accuracy 100.00%\n",
      "Epoch  250/1000 Cost: 0.067355 Accuracy 100.00%\n",
      "Epoch  260/1000 Cost: 0.065218 Accuracy 100.00%\n",
      "Epoch  270/1000 Cost: 0.063216 Accuracy 100.00%\n",
      "Epoch  280/1000 Cost: 0.061336 Accuracy 100.00%\n",
      "Epoch  290/1000 Cost: 0.059567 Accuracy 100.00%\n",
      "Epoch  300/1000 Cost: 0.057899 Accuracy 100.00%\n",
      "Epoch  310/1000 Cost: 0.056324 Accuracy 100.00%\n",
      "Epoch  320/1000 Cost: 0.054835 Accuracy 100.00%\n",
      "Epoch  330/1000 Cost: 0.053424 Accuracy 100.00%\n",
      "Epoch  340/1000 Cost: 0.052085 Accuracy 100.00%\n",
      "Epoch  350/1000 Cost: 0.050813 Accuracy 100.00%\n",
      "Epoch  360/1000 Cost: 0.049603 Accuracy 100.00%\n",
      "Epoch  370/1000 Cost: 0.048451 Accuracy 100.00%\n",
      "Epoch  380/1000 Cost: 0.047352 Accuracy 100.00%\n",
      "Epoch  390/1000 Cost: 0.046302 Accuracy 100.00%\n",
      "Epoch  400/1000 Cost: 0.045299 Accuracy 100.00%\n",
      "Epoch  410/1000 Cost: 0.044339 Accuracy 100.00%\n",
      "Epoch  420/1000 Cost: 0.043420 Accuracy 100.00%\n",
      "Epoch  430/1000 Cost: 0.042539 Accuracy 100.00%\n",
      "Epoch  440/1000 Cost: 0.041694 Accuracy 100.00%\n",
      "Epoch  450/1000 Cost: 0.040882 Accuracy 100.00%\n",
      "Epoch  460/1000 Cost: 0.040101 Accuracy 100.00%\n",
      "Epoch  470/1000 Cost: 0.039350 Accuracy 100.00%\n",
      "Epoch  480/1000 Cost: 0.038628 Accuracy 100.00%\n",
      "Epoch  490/1000 Cost: 0.037932 Accuracy 100.00%\n",
      "Epoch  500/1000 Cost: 0.037261 Accuracy 100.00%\n",
      "Epoch  510/1000 Cost: 0.036613 Accuracy 100.00%\n",
      "Epoch  520/1000 Cost: 0.035988 Accuracy 100.00%\n",
      "Epoch  530/1000 Cost: 0.035384 Accuracy 100.00%\n",
      "Epoch  540/1000 Cost: 0.034801 Accuracy 100.00%\n",
      "Epoch  550/1000 Cost: 0.034237 Accuracy 100.00%\n",
      "Epoch  560/1000 Cost: 0.033691 Accuracy 100.00%\n",
      "Epoch  570/1000 Cost: 0.033162 Accuracy 100.00%\n",
      "Epoch  580/1000 Cost: 0.032650 Accuracy 100.00%\n",
      "Epoch  590/1000 Cost: 0.032153 Accuracy 100.00%\n",
      "Epoch  600/1000 Cost: 0.031672 Accuracy 100.00%\n",
      "Epoch  610/1000 Cost: 0.031205 Accuracy 100.00%\n",
      "Epoch  620/1000 Cost: 0.030752 Accuracy 100.00%\n",
      "Epoch  630/1000 Cost: 0.030312 Accuracy 100.00%\n",
      "Epoch  640/1000 Cost: 0.029885 Accuracy 100.00%\n",
      "Epoch  650/1000 Cost: 0.029469 Accuracy 100.00%\n",
      "Epoch  660/1000 Cost: 0.029065 Accuracy 100.00%\n",
      "Epoch  670/1000 Cost: 0.028672 Accuracy 100.00%\n",
      "Epoch  680/1000 Cost: 0.028290 Accuracy 100.00%\n",
      "Epoch  690/1000 Cost: 0.027918 Accuracy 100.00%\n",
      "Epoch  700/1000 Cost: 0.027556 Accuracy 100.00%\n",
      "Epoch  710/1000 Cost: 0.027203 Accuracy 100.00%\n",
      "Epoch  720/1000 Cost: 0.026859 Accuracy 100.00%\n",
      "Epoch  730/1000 Cost: 0.026524 Accuracy 100.00%\n",
      "Epoch  740/1000 Cost: 0.026197 Accuracy 100.00%\n",
      "Epoch  750/1000 Cost: 0.025878 Accuracy 100.00%\n",
      "Epoch  760/1000 Cost: 0.025567 Accuracy 100.00%\n",
      "Epoch  770/1000 Cost: 0.025263 Accuracy 100.00%\n",
      "Epoch  780/1000 Cost: 0.024967 Accuracy 100.00%\n",
      "Epoch  790/1000 Cost: 0.024677 Accuracy 100.00%\n",
      "Epoch  800/1000 Cost: 0.024394 Accuracy 100.00%\n",
      "Epoch  810/1000 Cost: 0.024118 Accuracy 100.00%\n",
      "Epoch  820/1000 Cost: 0.023848 Accuracy 100.00%\n",
      "Epoch  830/1000 Cost: 0.023584 Accuracy 100.00%\n",
      "Epoch  840/1000 Cost: 0.023325 Accuracy 100.00%\n",
      "Epoch  850/1000 Cost: 0.023073 Accuracy 100.00%\n",
      "Epoch  860/1000 Cost: 0.022826 Accuracy 100.00%\n",
      "Epoch  870/1000 Cost: 0.022584 Accuracy 100.00%\n",
      "Epoch  880/1000 Cost: 0.022347 Accuracy 100.00%\n",
      "Epoch  890/1000 Cost: 0.022115 Accuracy 100.00%\n",
      "Epoch  900/1000 Cost: 0.021888 Accuracy 100.00%\n",
      "Epoch  910/1000 Cost: 0.021666 Accuracy 100.00%\n",
      "Epoch  920/1000 Cost: 0.021448 Accuracy 100.00%\n",
      "Epoch  930/1000 Cost: 0.021234 Accuracy 100.00%\n",
      "Epoch  940/1000 Cost: 0.021025 Accuracy 100.00%\n",
      "Epoch  950/1000 Cost: 0.020820 Accuracy 100.00%\n",
      "Epoch  960/1000 Cost: 0.020619 Accuracy 100.00%\n",
      "Epoch  970/1000 Cost: 0.020422 Accuracy 100.00%\n",
      "Epoch  980/1000 Cost: 0.020228 Accuracy 100.00%\n",
      "Epoch  990/1000 Cost: 0.020038 Accuracy 100.00%\n",
      "Epoch 1000/1000 Cost: 0.019852 Accuracy 100.00%\n"
     ]
    }
   ],
   "source": [
    "optimizer = optim.SGD(model.parameters(), lr=1)\n",
    "\n",
    "nb_epochs = 1000\n",
    "for epoch in range(nb_epochs + 1):\n",
    "    \n",
    "    hypothesis = model(x_train)\n",
    "    cost = F.binary_cross_entropy(hypothesis, y_train)\n",
    "    \n",
    "    optimizer.zero_grad()\n",
    "    cost.backward()\n",
    "    optimizer.step()\n",
    "    \n",
    "    if epoch % 10 == 0:\n",
    "        prediction = hypothesis >= torch.FloatTensor([0.5]) # 예측값이 0.5를 넘으면 True로 간주\n",
    "        correct_prediction = prediction.float() == y_train # 실제값과 일치하는 경우만 True로 간주\n",
    "        accuracy = correct_prediction.sum().item() / len(correct_prediction) # 정확도를 계산\n",
    "        print('Epoch {:4d}/{} Cost: {:.6f} Accuracy {:2.2f}%'.format( # 각 에포크마다 정확도를 출력\n",
    "            epoch, nb_epochs, cost.item(), accuracy * 100,\n",
    "        ))"
   ]
  }
 ],
 "metadata": {
  "kernelspec": {
   "display_name": "Python 3",
   "language": "python",
   "name": "python3"
  },
  "language_info": {
   "codemirror_mode": {
    "name": "ipython",
    "version": 3
   },
   "file_extension": ".py",
   "mimetype": "text/x-python",
   "name": "python",
   "nbconvert_exporter": "python",
   "pygments_lexer": "ipython3",
   "version": "3.8.5"
  }
 },
 "nbformat": 4,
 "nbformat_minor": 4
}
