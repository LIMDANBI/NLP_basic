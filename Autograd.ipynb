{
 "cells": [
  {
   "cell_type": "code",
   "execution_count": 1,
   "metadata": {},
   "outputs": [],
   "source": [
    "import torch"
   ]
  },
  {
   "cell_type": "code",
   "execution_count": 2,
   "metadata": {},
   "outputs": [
    {
     "name": "stdout",
     "output_type": "stream",
     "text": [
      "수식을 w로 미분한 값 : 8.0\n"
     ]
    }
   ],
   "source": [
    "# 경사 하강법을 넘파이 등으로 직접 코딩하는 것은 까다로운 일 -> 파이토치에서는 이런 수고를 하지 않도록 자동 미분(Autograd)을 지원\n",
    "w = torch.tensor(2.0, requires_grad=True)\n",
    "\n",
    "y = w**2\n",
    "z = 2*y + 5\n",
    "\n",
    "z.backward()\n",
    "\n",
    "print('수식을 w로 미분한 값 : {}'.format(w.grad))"
   ]
  }
 ],
 "metadata": {
  "kernelspec": {
   "display_name": "Python 3",
   "language": "python",
   "name": "python3"
  },
  "language_info": {
   "codemirror_mode": {
    "name": "ipython",
    "version": 3
   },
   "file_extension": ".py",
   "mimetype": "text/x-python",
   "name": "python",
   "nbconvert_exporter": "python",
   "pygments_lexer": "ipython3",
   "version": "3.8.5"
  }
 },
 "nbformat": 4,
 "nbformat_minor": 4
}
